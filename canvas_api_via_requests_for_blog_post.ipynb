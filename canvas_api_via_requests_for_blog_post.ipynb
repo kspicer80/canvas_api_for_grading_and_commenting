{
 "cells": [
  {
   "cell_type": "code",
   "execution_count": null,
   "metadata": {},
   "outputs": [],
   "source": [
    "import json\n",
    "import requests\n",
    "import pandas as pd\n",
    "pd.set_option('display.max_rows', 500)\n",
    "pd.set_option('display.max_columns', 500)\n",
    "pd.set_option('display.width', 00)"
   ]
  },
  {
   "cell_type": "code",
   "execution_count": null,
   "metadata": {},
   "outputs": [],
   "source": [
    "URL = # url to the appropriate endpoint goes here ...\n",
    "API_KEY = XXXXX\n",
    "course_number = XXXXXXX\n",
    "\n",
    "header_argument = {\"Authorization\": \"Bearer \" + API_KEY}\n",
    "response = requests.get(URL, headers=header_argument)\n",
    "data = response.json()"
   ]
  },
  {
   "cell_type": "code",
   "execution_count": null,
   "metadata": {},
   "outputs": [],
   "source": [
    "submission_comment = data['submission_comments']\n",
    "print(submission_comment)\n",
    "\n",
    "def check_if_comments_already_exist(submission_comments_field):\n",
    "    if submission_comments_field == []:\n",
    "        updated = False\n",
    "    else:\n",
    "        updated = True\n",
    "    print(updated)\n",
    "\n",
    "check_if_comments_already_exist(submission_comment[0]['comment'])"
   ]
  },
  {
   "cell_type": "code",
   "execution_count": null,
   "metadata": {},
   "outputs": [],
   "source": [
    "# We're trying this out on a student who has no submission comments uploaded already ...\n",
    "test_student_URL = #appropriate url\n",
    "\n",
    "test_response = requests.get(test_student_URL, headers=header_argument)\n",
    "test_response_data = test_response.json()\n",
    "comments = test_response_data['submission_comments']\n",
    "print(comments)\n",
    "\n",
    "check_if_comments_already_exist(comments)"
   ]
  },
  {
   "cell_type": "code",
   "execution_count": null,
   "metadata": {},
   "outputs": [],
   "source": [
    "# Now let's check with a student that DOES have comments already existing there ...:\n",
    "\n",
    "test_url_for_student_with_existing_comments = #appropriate url"
   ]
  },
  {
   "cell_type": "code",
   "execution_count": null,
   "metadata": {},
   "outputs": [],
   "source": [
    "test = requests.get(test_url_for_student_with_existing_comments, headers=header_argument)\n",
    "test_response = test_response.json()\n",
    "comments = test_response_data['submission_comments']\n",
    "print(comments)\n",
    "\n",
    "check_if_comments_already_exist(comments)"
   ]
  },
  {
   "cell_type": "code",
   "execution_count": null,
   "metadata": {},
   "outputs": [],
   "source": [
    "import json\n",
    "with open('responses_json_for_sandbox_testing.json') as f:\n",
    "    data = json.load(f)"
   ]
  },
  {
   "cell_type": "code",
   "execution_count": null,
   "metadata": {},
   "outputs": [],
   "source": [
    "data['grade_data'][0]"
   ]
  },
  {
   "cell_type": "code",
   "execution_count": null,
   "metadata": {},
   "outputs": [],
   "source": [
    "df = pd.json_normalize(data, record_path='grade_data')\n",
    "df.head()"
   ]
  },
  {
   "cell_type": "code",
   "execution_count": null,
   "metadata": {},
   "outputs": [],
   "source": [
    "#data_to_upload = {\n",
    "    #'grade_data[3888502][posted_grade]': \"5\",\n",
    "    #'grade_data[3888502][text_comment]': \"Here's a comment just using the CURL commands!\",\n",
    "    #'grade_data[3405833][posted_grade]': \"5\",\n",
    "    #'grade_data[3405833][text_comment]': \"Testing, testing, 1, 2, 3 ...\",\n",
    "    #'grade_data[3913820][posted_grade]': \"5\",\n",
    "    #'grade_data[3913820][text_comment]': \"This is a test ...!\"\n",
    "#}"
   ]
  },
  {
   "cell_type": "code",
   "execution_count": null,
   "metadata": {},
   "outputs": [],
   "source": [
    "for i in range(len(data['grade_data'])):\n",
    "    print(data['grade_data'][i]['student_id'])"
   ]
  },
  {
   "cell_type": "code",
   "execution_count": null,
   "metadata": {},
   "outputs": [],
   "source": [
    "#dict_for_upload = {}\n",
    "#\n",
    "#for element in data['grade_data']:\n",
    "    #for key, value in element.items():\n",
    "        #id_string = key['student_id']\n",
    "        #grade_string = key['posted_grade']\n",
    "        #comment = key['text_comment']\n",
    "        #dict_for_upload[f'grade_data[{id_string}][posted_grade]'] = grade_string\n",
    "        #dict_for_upload[f'grade_data[{id_string}][text_comment]'] = comment\n",
    "\n",
    "#'grade_data[course_id_number_will_be_here][text_comment]': \"This is a test ...!\"\n",
    "    "
   ]
  },
  {
   "cell_type": "code",
   "execution_count": null,
   "metadata": {},
   "outputs": [],
   "source": [
    "dict_for_upload = {}\n",
    "\n",
    "for i in range(len(data['grade_data'])):\n",
    "    id = data['grade_data'][i]['student_id']\n",
    "    score = data['grade_data'][i]['posted_grade']\n",
    "    comment = data['grade_data'][i]['text_comment']\n",
    "    dict_for_upload[f'grade_data[{id}][posted_grade]'] = f\"{score}\"\n",
    "    dict_for_upload[f'grade_data[{id}][text_comment]'] = f\"{comment}\"\n",
    "\n",
    "dict_for_upload\n",
    "    #print(data['grade_data'][i]['student_id'])\n"
   ]
  },
  {
   "cell_type": "code",
   "execution_count": null,
   "metadata": {},
   "outputs": [],
   "source": [
    "data_to_upload = {\n",
    "    'grade_data[student_id_number][posted_grade]': \"5\",\n",
    "    'grade_data[student_id_number][text_comment]': \"Here's a comment just using the CURL commands!\",\n",
    "    'grade_data[3405833][posted_grade]': \"5\",\n",
    "    'grade_data[3405833][text_comment]': \"Testing, testing, 1, 2, 3 ...\",\n",
    "    'grade_data[3913820][posted_grade]': \"5\",\n",
    "    'grade_data[3913820][text_comment]': \"This is a test ...!\"\n",
    "}"
   ]
  },
  {
   "cell_type": "code",
   "execution_count": null,
   "metadata": {},
   "outputs": [],
   "source": [
    "if dict_for_upload == data_to_upload:\n",
    "    print(\"These two dictionaries are equal, yay!\")\n",
    "else:\n",
    "    print(\"These dictionaries aren't equal!\")"
   ]
  },
  {
   "cell_type": "code",
   "execution_count": null,
   "metadata": {},
   "outputs": [],
   "source": [
    "# Let's test it again having made the json_data from the json file:\n",
    "\n",
    "response = requests.post(URL_to_the_appropriate_endpoint, headers=header_argument, data=dict_for_upload)"
   ]
  }
 ],
 "metadata": {
  "kernelspec": {
   "display_name": "base",
   "language": "python",
   "name": "python3"
  },
  "language_info": {
   "codemirror_mode": {
    "name": "ipython",
    "version": 3
   },
   "file_extension": ".py",
   "mimetype": "text/x-python",
   "name": "python",
   "nbconvert_exporter": "python",
   "pygments_lexer": "ipython3",
   "version": "3.9.12 (main, Apr  5 2022, 01:53:17) \n[Clang 12.0.0 ]"
  },
  "orig_nbformat": 4,
  "vscode": {
   "interpreter": {
    "hash": "19e56c70b3071a7c9e5271d6c05d63446be4cb37f733ae995dda36f1f67e797e"
   }
  }
 },
 "nbformat": 4,
 "nbformat_minor": 2
}
